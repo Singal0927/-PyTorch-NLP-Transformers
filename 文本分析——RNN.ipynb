{
 "cells": [
  {
   "cell_type": "markdown",
   "metadata": {},
   "source": [
    "## 循环神经网络 Recurrent Neural Network，RNN\n",
    "### 一、深度神经网络处理文本的劣势：\n",
    "1. 参数过多：每个单词均拥有各自的权重和偏置---解决方法：权重共享\n",
    "2. 无法保留以前时刻的信息---解决方法：设置一个信息单元$h_t$，用以保留信息\n",
    "$$h_t=f(h_{t-1},x)=tanh(w_rh_{t-1}+w_ix_t)$$\n",
    "$$y_t=w_oh_t$$\n",
    "$$tanh(x)=\\frac{e^x-e^{-x}}{e^x+e^{-x}}$$  \n",
    "该方法即为RNN的思想"
   ]
  },
  {
   "cell_type": "markdown",
   "metadata": {},
   "source": [
    "### 二、RNN的训练方法\n",
    "关键在于计算梯度向量$\\frac{\\partial E_t}{\\partial w_r}$\n",
    "$$\\frac{\\partial E_t}{\\partial w_r}=\\sum_{i=0}^{t}\\frac{\\partial E_t}{\\partial y_t}\\frac{\\partial y_t}{\\partial h_t}\\frac{\\partial h_t}{\\partial h_i}\\frac{\\partial h_i}{\\partial w_r}"
   ]
  },
  {
   "cell_type": "markdown",
   "metadata": {},
   "source": [
    "其中，$$\\frac{\\partial h_t}{\\partial h_i}=\\prod_{k=i}^{t-1}\\frac{\\partial h_{k+1}}{\\partial h_k}$$\n",
    "$$\\frac{\\partial h_{k+1}}{\\partial h_k}=w_r diag\\left[f^{'}(w_r h_k+w_i x_{k+1})\\right]$$\n",
    "观察解析式可得，存在多个$w_r$相乘——问题所在。\n",
    "### 三、代码\n",
    "#### （一）文本数据预处理"
   ]
  },
  {
   "cell_type": "code",
   "execution_count": 1,
   "metadata": {},
   "outputs": [
    {
     "name": "stdout",
     "output_type": "stream",
     "text": [
      "['data/data/names/Czech.txt', 'data/data/names/German.txt', 'data/data/names/Arabic.txt', 'data/data/names/Japanese.txt', 'data/data/names/Chinese.txt', 'data/data/names/Vietnamese.txt', 'data/data/names/Russian.txt', 'data/data/names/French.txt', 'data/data/names/Irish.txt', 'data/data/names/English.txt', 'data/data/names/Spanish.txt', 'data/data/names/Greek.txt', 'data/data/names/Italian.txt', 'data/data/names/Portuguese.txt', 'data/data/names/Scottish.txt', 'data/data/names/Dutch.txt', 'data/data/names/Korean.txt', 'data/data/names/Polish.txt']\n"
     ]
    }
   ],
   "source": [
    "from io import open\n",
    "import glob,os\n",
    "\n",
    "def findFiles(path):\n",
    "    return glob.glob(path)#返回查找文件的所有位置\n",
    "print(findFiles('data/data/names/*.txt'))"
   ]
  },
  {
   "cell_type": "code",
   "execution_count": 2,
   "metadata": {},
   "outputs": [
    {
     "data": {
      "text/plain": [
       "['Ang', 'AuYong', 'Bai', 'Ban', 'Bao']"
      ]
     },
     "execution_count": 2,
     "metadata": {},
     "output_type": "execute_result"
    }
   ],
   "source": [
    "import unicodedata\n",
    "import string\n",
    "all_letters=string.ascii_letters+\".,;'\"#表示全部字母\n",
    "n_letters=len(all_letters)\n",
    "\n",
    "def unicodeToAscii(s):\n",
    "    return ''.join(\n",
    "        c for c in unicodedata.normalize('NFD',s)\n",
    "        if unicodedata.category(c)!='Mn'\n",
    "        and c in all_letters\n",
    "    )\n",
    "\n",
    "category_lines={}#以语言种类为键，以该语言所包含的姓氏组成一个列表，再作为值\n",
    "all_categories=[]#一个包含18种语言的列表\n",
    "\n",
    "def readLines(filename):\n",
    "    lines=open(filename,encoding='utf-8').read().strip().split('\\n')\n",
    "    return [unicodeToAscii(line) for line in lines]\n",
    "\n",
    "for filename in findFiles('data/data/names/*.txt'):\n",
    "    category=os.path.splitext(os.path.basename(filename))[0]#basename返回文件名及其类型，splitext再将文件名与其类型分割\n",
    "    all_categories.append(category)\n",
    "\n",
    "    lines=readLines(filename)#返回所有行\n",
    "    category_lines[category]=lines\n",
    "\n",
    "n_categories=len(all_categories)\n",
    "\n",
    "category_lines['Chinese'][:5]"
   ]
  },
  {
   "cell_type": "markdown",
   "metadata": {},
   "source": [
    "任意一个字母为1×n_letters的向量，每一句话（本例中，一行只有一个单词）则是line_lenght×1×n_letters"
   ]
  },
  {
   "cell_type": "code",
   "execution_count": null,
   "metadata": {},
   "outputs": [
    {
     "ename": "",
     "evalue": "",
     "output_type": "error",
     "traceback": [
      "\u001b[1;31mPython 3.8.9 64-bit 需要安装 ipykernel。\n",
      "Run the following command to install 'ipykernel' into the Python environment. \n",
      "Command: '/usr/bin/python3 -m pip install ipykernel -U --user --force-reinstall'"
     ]
    }
   ],
   "source": [
    "import torch as t\n",
    "\n",
    "def letterToIndex(letter):\n",
    "    tensor=t.zeros(1,all_letters)#初始化\n",
    "    tensor[0][all_letters.find(letter)]=1#给每个字母的index所对应的列表元素赋值为1\n",
    "    return tensor\n",
    "\n",
    "def lineToTensor(line):\n",
    "    tensor=t.zeros(len(line),1,n_letters)\n",
    "    for index,letter in enumerate(line):#第一个字母的序号是0，所以用enumerate\n",
    "        tensor[index][0][all_letters.find(letter)]=1#每一句话中，单个字母所处的位置所对应的值赋为1\n",
    "    return tensor\n"
   ]
  },
  {
   "cell_type": "markdown",
   "metadata": {},
   "source": [
    "#### （二）构建RNN"
   ]
  },
  {
   "cell_type": "code",
   "execution_count": 4,
   "metadata": {},
   "outputs": [],
   "source": [
    "import torch.nn as nn\n",
    "\n",
    "class RNN(nn.Module):\n",
    "    def __init__(self,input_size,output_size,hidden_size):\n",
    "        super(RNN,self).__init__()\n",
    "\n",
    "        self.hidden_size=hidden_size#用于初始化隐藏的信息单元\n",
    "        \n",
    "        self.i2h=nn.Linear(input_size+hidden_size,hidden_size)\n",
    "        self.i2o=nn.Linear(input_size+hidden_size,output_size)\n",
    "\n",
    "        self.softmax=nn.LogSoftmax(dim=1)#dim=1表示计算output的对数softmax值\n",
    "\n",
    "    def forward(self,input,hidden):\n",
    "        data=t.cat((input,hidden),1)#input在本例中的维度为1×n_letters\n",
    "\n",
    "        hidden=self.i2h(data)\n",
    "\n",
    "        output=self.i2o(data)\n",
    "        output=self.softmax(output)\n",
    "\n",
    "        return output,hidden\n",
    "\n",
    "    def initHidden(self):\n",
    "        return t.zeros(1,self.hidden_size)\n",
    "    \n",
    "n_hidden=128\n",
    "rnn=RNN(n_letters,n_categories,n_hidden)"
   ]
  },
  {
   "cell_type": "code",
   "execution_count": 5,
   "metadata": {},
   "outputs": [
    {
     "name": "stdout",
     "output_type": "stream",
     "text": [
      "tensor([[-2.8520, -2.9052, -2.7786, -2.9903, -2.8338, -2.9406, -2.9419, -2.8933,\n",
      "         -2.9955, -2.8233, -2.9223, -2.9501, -2.8064, -2.8749, -2.7712, -2.9249,\n",
      "         -2.9135, -2.9487]], grad_fn=<LogSoftmaxBackward0>)\n"
     ]
    }
   ],
   "source": [
    "input=lineToTensor('Albert')\n",
    "hidden=t.zeros(1,n_hidden)\n",
    "\n",
    "output,hidden=rnn(input[0],hidden)\n",
    "print(output)"
   ]
  },
  {
   "cell_type": "markdown",
   "metadata": {},
   "source": [
    "#### （三）训练模型\n",
    "需要定义两个函数，分别用于随机抽取样本，以及从输出结果中选取可能性最大的种类作为预测"
   ]
  },
  {
   "cell_type": "code",
   "execution_count": 6,
   "metadata": {},
   "outputs": [
    {
     "name": "stdout",
     "output_type": "stream",
     "text": [
      "category = Scottish and line = Hamilton\n",
      "category = English and line = Raine\n",
      "category = Czech and line = Holan\n",
      "category = Russian and line = Halymbadzha\n",
      "category = English and line = Ocallaghan\n",
      "category = Scottish and line = Stewart\n",
      "category = Greek and line = Kreskas\n",
      "category = French and line = Rose\n",
      "category = Japanese and line = Suzuki\n",
      "category = Czech and line = Pitterman\n",
      "category = Czech and line = Herodes\n",
      "category = Portuguese and line = Costa\n",
      "category = Polish and line = Lawniczak\n",
      "category = Arabic and line = Sleiman\n",
      "category = Scottish and line = Simpson\n"
     ]
    }
   ],
   "source": [
    "import random\n",
    "\n",
    "def randomChoice(lis):\n",
    "    return lis[random.randint(0,len(lis)-1)]\n",
    "\n",
    "def randomTrainingExample():#随机选取训练样本\n",
    "    category=randomChoice(all_categories)\n",
    "    line=randomChoice(category_lines[category])\n",
    "\n",
    "    category_tensor=t.tensor([all_categories.index(category)],dtype=t.long)\n",
    "    line_tensor=lineToTensor(line)\n",
    "    return category,line,category_tensor,line_tensor\n",
    "\n",
    "for i in range(15):\n",
    "    category,line,category_tensor,line_tensor=randomTrainingExample()\n",
    "    print(f'category = {category} and line = {line}')"
   ]
  },
  {
   "cell_type": "code",
   "execution_count": 7,
   "metadata": {},
   "outputs": [],
   "source": [
    "def categoryFromOutput(output):#从输出结果中选取可能性最大的种类作为预测\n",
    "    pred=all_categories[output.argmax()]\n",
    "    #或使用以下代码\n",
    "    '''\n",
    "    top_value,top_indice=output.topk(1)\n",
    "    pred=all_categories[top_indice[0].item()]\n",
    "    '''\n",
    "    return pred"
   ]
  },
  {
   "cell_type": "markdown",
   "metadata": {},
   "source": [
    "RNN的训练步骤为：\n",
    "1. 生成输入张量$x$；\n",
    "2. 初始化隐藏单元$h$；\n",
    "3. 传入每个字母，并保留隐藏单元的信息；\n",
    "4. 计算损失函数，并反向传播。\n",
    "\n",
    "由于RNN的最后一层是对数softmax函数，故选择负的对数似然函数最合适。"
   ]
  },
  {
   "cell_type": "code",
   "execution_count": 8,
   "metadata": {},
   "outputs": [],
   "source": [
    "criterion=nn.NLLLoss()\n",
    "lr=0.005\n",
    "\n",
    "def train(line_tensor,category_tensor):\n",
    "    hidden=rnn.initHidden()\n",
    "    rnn.zero_grad()\n",
    "\n",
    "    for i in range(line_tensor.size()[0]):\n",
    "        output,hidden=rnn(line_tensor[i],hidden)\n",
    "\n",
    "    loss=criterion(output,category_tensor)\n",
    "    loss.backward()\n",
    "\n",
    "    for p in rnn.parameters():\n",
    "        p.data.add_(p.grad.data,alpha=-lr)#p是一个tensor\n",
    "    return output,loss.item()\n",
    "\n",
    "import time\n",
    "import math\n",
    "\n",
    "def timeSince(since):#用以记录每训练一句话使用了多长时间\n",
    "    now=time.time()\n",
    "    s=now-since\n",
    "    m=math.floor(s/60)#多少分\n",
    "    s-=m*60#多少秒\n",
    "    return f'{m}分 {s:.4f}秒'"
   ]
  },
  {
   "cell_type": "code",
   "execution_count": 9,
   "metadata": {},
   "outputs": [
    {
     "name": "stdout",
     "output_type": "stream",
     "text": [
      "迭代次数5000，占比5.0%，耗时0分 1.3837秒，当前实例的损失值为2.4415，分类正确，正确类别为Irish\n",
      "迭代次数10000，占比10.0%，耗时0分 2.8979秒，当前实例的损失值为2.2444，分类错误，错误分类为Dutch，正确类别为English\n",
      "迭代次数15000，占比15.0%，耗时0分 4.3269秒，当前实例的损失值为1.5224，分类错误，错误分类为Korean，正确类别为Vietnamese\n",
      "迭代次数20000，占比20.0%，耗时0分 5.7226秒，当前实例的损失值为1.9723，分类错误，错误分类为Portuguese，正确类别为French\n",
      "迭代次数25000，占比25.0%，耗时0分 7.0969秒，当前实例的损失值为1.4400，分类错误，错误分类为Japanese，正确类别为Italian\n",
      "迭代次数30000，占比30.0%，耗时0分 8.5062秒，当前实例的损失值为0.8938，分类正确，正确类别为Vietnamese\n",
      "迭代次数35000，占比35.0%，耗时0分 9.8772秒，当前实例的损失值为1.7976，分类错误，错误分类为Dutch，正确类别为Portuguese\n",
      "迭代次数40000，占比40.0%，耗时0分 11.2621秒，当前实例的损失值为0.9919，分类正确，正确类别为Chinese\n",
      "迭代次数45000，占比45.0%，耗时0分 12.6503秒，当前实例的损失值为2.4381，分类错误，错误分类为French，正确类别为English\n",
      "迭代次数50000，占比50.0%，耗时0分 14.0384秒，当前实例的损失值为0.6177，分类正确，正确类别为Chinese\n",
      "迭代次数55000，占比55.0%，耗时0分 15.4013秒，当前实例的损失值为2.6716，分类错误，错误分类为Japanese，正确类别为Arabic\n",
      "迭代次数60000，占比60.0%，耗时0分 16.7822秒，当前实例的损失值为3.8246，分类错误，错误分类为Arabic，正确类别为Portuguese\n",
      "迭代次数65000，占比65.0%，耗时0分 18.1732秒，当前实例的损失值为0.8745，分类正确，正确类别为Korean\n",
      "迭代次数70000，占比70.0%，耗时0分 19.5617秒，当前实例的损失值为2.1365，分类错误，错误分类为Arabic，正确类别为Dutch\n",
      "迭代次数75000，占比75.0%，耗时0分 20.9334秒，当前实例的损失值为1.5497，分类错误，错误分类为Arabic，正确类别为Russian\n",
      "迭代次数80000，占比80.0%，耗时0分 22.3195秒，当前实例的损失值为3.3208，分类错误，错误分类为English，正确类别为Arabic\n",
      "迭代次数85000，占比85.0%，耗时0分 23.6876秒，当前实例的损失值为0.0288，分类正确，正确类别为Scottish\n",
      "迭代次数90000，占比90.0%，耗时0分 25.0587秒，当前实例的损失值为1.3966，分类错误，错误分类为Irish，正确类别为English\n",
      "迭代次数95000，占比95.0%，耗时0分 26.4591秒，当前实例的损失值为0.0221，分类正确，正确类别为Irish\n",
      "迭代次数100000，占比100.0%，耗时0分 27.8328秒，当前实例的损失值为1.6220，分类错误，错误分类为Scottish，正确类别为English\n"
     ]
    }
   ],
   "source": [
    "since=time.time()\n",
    "n_iters=100000\n",
    "print_every=5000\n",
    "plot_every=1000\n",
    "current_loss=0\n",
    "all_losses=[]\n",
    "\n",
    "for iter in range(1,n_iters+1):\n",
    "    category,line,category_tensor,line_tensor=randomTrainingExample()\n",
    "    output,loss=train(line_tensor,category_tensor)\n",
    "    current_loss+=loss\n",
    "\n",
    "    if iter % print_every==0:\n",
    "        pred=categoryFromOutput(output)\n",
    "        if pred==category:\n",
    "            correct='正确'\n",
    "        else:\n",
    "            correct=f'错误，错误分类为{pred}'\n",
    "        print(f'迭代次数{iter}，占比{iter/n_iters*100:.1f}%，耗时{timeSince(since)}，当前实例的损失值为{loss:.4f}，分类{correct}，正确类别为{category}')\n",
    "\n",
    "    if iter % plot_every==0:\n",
    "        all_losses.append(current_loss/plot_every)\n",
    "        current_loss=0"
   ]
  },
  {
   "cell_type": "code",
   "execution_count": 10,
   "metadata": {},
   "outputs": [
    {
     "data": {
      "text/plain": [
       "Text(0.5, 0, 'The Number of Iterations * 2000')"
      ]
     },
     "execution_count": 10,
     "metadata": {},
     "output_type": "execute_result"
    },
    {
     "data": {
      "image/png": "[encoded data removed]",
      "text/plain": [
       "<Figure size 1080x360 with 1 Axes>"
      ]
     },
     "metadata": {
      "needs_background": "light"
     },
     "output_type": "display_data"
    }
   ],
   "source": [
    "import matplotlib.pyplot as plt\n",
    "plt.figure(figsize=(15,5))\n",
    "plt.plot(all_losses)\n",
    "plt.title('Loss Value')\n",
    "plt.xlabel('The Number of Iterations * 2000')"
   ]
  },
  {
   "cell_type": "code",
   "execution_count": 11,
   "metadata": {},
   "outputs": [],
   "source": [
    "confusion_matrix=t.zeros(n_categories,n_categories)\n",
    "confusion_iters=10000#生成混淆矩阵所需的迭代次数\n",
    "\n",
    "def evaluate(line_tensor):\n",
    "\n",
    "    hidden=rnn.initHidden()\n",
    "    for i in range(line_tensor.size()[0]):\n",
    "        output,hidden=rnn(line_tensor[i],hidden)\n",
    "\n",
    "    return output\n",
    "\n",
    "for i in range(confusion_iters):\n",
    "\n",
    "    category,line,category_tensor,line_tensor=randomTrainingExample()\n",
    "    pred=categoryFromOutput(evaluate(line_tensor))\n",
    "    \n",
    "    #在通过tensor生成混淆矩阵时，最好以行作为实际值，以列作为预测值\n",
    "    row=all_categories.index(category)#列代表预测结果\n",
    "    column=all_categories.index(pred)#行代表真实结果\n",
    "    confusion_matrix[row][column]+=1\n",
    "\n",
    "for i in range(confusion_matrix.size()[0]):\n",
    "    confusion_matrix[i] /= confusion_matrix[i].sum()"
   ]
  },
  {
   "cell_type": "code",
   "execution_count": 12,
   "metadata": {},
   "outputs": [
    {
     "data": {
      "image/png": "[encoded data removed]",
      "text/plain": [
       "<Figure size 1080x720 with 2 Axes>"
      ]
     },
     "metadata": {
      "needs_background": "light"
     },
     "output_type": "display_data"
    }
   ],
   "source": [
    "import seaborn as sns\n",
    "import numpy as np\n",
    "plt.figure(figsize=(15,10))\n",
    "sns.heatmap(confusion_matrix,cmap='Blues',cbar=True)\n",
    "plt.xticks(np.arange(18),all_categories,rotation=90)\n",
    "plt.yticks(np.arange(18),all_categories,rotation=0)\n",
    "plt.title('Confusion Matirx')\n",
    "plt.show()"
   ]
  },
  {
   "cell_type": "markdown",
   "metadata": {},
   "source": [
    "#### （四）生成文本\n",
    "通过语言种类来生成名字，以语言类别、输入字符以及隐藏单元作为输入数据，以下一个字符和隐藏单元作为输出数据"
   ]
  },
  {
   "cell_type": "code",
   "execution_count": 13,
   "metadata": {},
   "outputs": [],
   "source": [
    "class RNN(nn.Module):\n",
    "    def __init__(self,input_size,output_size,hidden_size):\n",
    "        super(RNN,self).__init__()\n",
    "        self.hidden_size=hidden_size#用于初始化隐藏单元\n",
    "        \n",
    "        #本例中hidden_size设为128\n",
    "        self.i2h=nn.Linear(n_categories+input_size+hidden_size,hidden_size)#18+56+128=202，128\n",
    "        self.i2o=nn.Linear(n_categories+input_size+hidden_size,output_size)#18+56+128=202，56\n",
    "        self.o2o=nn.Linear(output_size+hidden_size,output_size)#用以增强稳健型，56+128=184，56\n",
    "\n",
    "        self.dropout=nn.Dropout(0.1)#随机使部分输入数据变为0，以降低过拟合、人为增加噪声\n",
    "        self.softmax=nn.LogSoftmax(dim=1)\n",
    "    \n",
    "    def forward(self,category,input,hidden):\n",
    "        input_combined=t.cat((category,input,hidden),1)#1，202\n",
    "\n",
    "        hidden=self.i2h(input_combined)#1，202---202，128\n",
    "        output=self.i2o(input_combined)#1，202---202，56\n",
    "\n",
    "        output_combined=t.cat((hidden,output),1)\n",
    "        output=self.o2o(output_combined)\n",
    "        output=self.dropout(output)\n",
    "        output=self.softmax(output)\n",
    "        return output,hidden\n",
    "    \n",
    "    def initHidden(self):\n",
    "        return t.zeros(1,self.hidden_size)"
   ]
  },
  {
   "cell_type": "code",
   "execution_count": 14,
   "metadata": {},
   "outputs": [],
   "source": [
    "def randomTrainingExample():#与上文的不同之处在于，需要将category也进行one-hot编码\n",
    "    #输入数据\n",
    "    category=randomChoice(all_categories)\n",
    "    category_tensor=t.zeros(1,n_categories)\n",
    "    category_tensor[0][all_categories.index(category)]=1\n",
    "\n",
    "    #输入数据，如ABCD\n",
    "    line=randomChoice(category_lines[category])\n",
    "    line_tensor=lineToTensor(line)\n",
    "\n",
    "    #真实值target_tensor，用于计算损失值，如BCD55\n",
    "    letter_indexes=[all_letters.index(letter) for letter in line[1:]]\n",
    "    letter_indexes.append(n_letters-1)#EOS\n",
    "    return line_tensor,category_tensor,t.LongTensor(letter_indexes)#为长整型"
   ]
  },
  {
   "cell_type": "code",
   "execution_count": 15,
   "metadata": {},
   "outputs": [
    {
     "name": "stdout",
     "output_type": "stream",
     "text": [
      "迭代次数为5000，占比5%，每5000次迭代的平均损失值为3.1922144299708384\n",
      "迭代次数为10000，占比10%，每5000次迭代的平均损失值为2.8533930278677855\n",
      "迭代次数为15000，占比15%，每5000次迭代的平均损失值为2.72594048703655\n",
      "迭代次数为20000，占比20%，每5000次迭代的平均损失值为2.633547316861558\n",
      "迭代次数为25000，占比25%，每5000次迭代的平均损失值为2.5764102735185146\n",
      "迭代次数为30000，占比30%，每5000次迭代的平均损失值为2.543778894201976\n",
      "迭代次数为35000，占比35%，每5000次迭代的平均损失值为2.4988600476932525\n",
      "迭代次数为40000，占比40%，每5000次迭代的平均损失值为2.470238950117642\n",
      "迭代次数为45000，占比45%，每5000次迭代的平均损失值为2.4489999264103157\n",
      "迭代次数为50000，占比50%，每5000次迭代的平均损失值为2.4248909515149206\n",
      "迭代次数为55000，占比55%，每5000次迭代的平均损失值为2.4095520982628162\n",
      "迭代次数为60000，占比60%，每5000次迭代的平均损失值为2.386030885213458\n",
      "迭代次数为65000，占比65%，每5000次迭代的平均损失值为2.3764933223660685\n",
      "迭代次数为70000，占比70%，每5000次迭代的平均损失值为2.3579362112735978\n",
      "迭代次数为75000，占比75%，每5000次迭代的平均损失值为2.3472523822765483\n",
      "迭代次数为80000，占比80%，每5000次迭代的平均损失值为2.3400272883160005\n",
      "迭代次数为85000，占比85%，每5000次迭代的平均损失值为2.330134591950106\n",
      "迭代次数为90000，占比90%，每5000次迭代的平均损失值为2.317864705927191\n",
      "迭代次数为95000，占比95%，每5000次迭代的平均损失值为2.321461858485722\n",
      "迭代次数为100000，占比100%，每5000次迭代的平均损失值为2.281397666684518\n"
     ]
    }
   ],
   "source": [
    "lr=0.0005\n",
    "def train(line_tensor,category_tensor,target_tensor):\n",
    "    target_tensor.unsqueeze_(-1)\n",
    "    hidden=rnn.initHidden()\n",
    "    loss=0\n",
    "    rnn.zero_grad()\n",
    "\n",
    "    for i in range(line_tensor.size()[0]):\n",
    "        output,hidden=rnn(category_tensor,line_tensor[i],hidden)\n",
    "        #每进行一次预测，实际上是对一句话（本例中一句话只有一个单词）中某个字符的下个字符进行预测，故损失值需逐个字符计算，\n",
    "        loss += criterion(output,target_tensor[i])#output是对下一个字符的预测，刚好与target_tensor的下标对应\n",
    "    \n",
    "    loss.backward()#单独一句话的所有字符之间共享参数\n",
    "\n",
    "    for p in rnn.parameters():\n",
    "        p.data.add_(p.grad.data,alpha=-lr)\n",
    "    return output,loss.item()/line_tensor.size()[0]\n",
    "\n",
    "rnn=RNN(n_letters,n_letters,128)\n",
    "n_iters=100000\n",
    "print_every=5000\n",
    "plot_every=2000\n",
    "all_losses=[]\n",
    "print_loss=0\n",
    "plot_loss=0\n",
    "\n",
    "for iter in range(1,n_iters+1):\n",
    "    line_tensor,category_tensor,target_tensor=randomTrainingExample()\n",
    "    output,loss=train(line_tensor,category_tensor,target_tensor)\n",
    "    print_loss+=loss\n",
    "    plot_loss+=loss\n",
    "\n",
    "    if iter % print_every==0:\n",
    "        print(f'迭代次数为{iter}，占比{iter/n_iters*100:.0f}%，每{print_every}次迭代的平均损失值为{print_loss/print_every}')\n",
    "        print_loss=0\n",
    "\n",
    "    if iter % plot_every==0:\n",
    "        all_losses.append(plot_loss/plot_every)\n",
    "        plot_loss=0"
   ]
  },
  {
   "cell_type": "code",
   "execution_count": 16,
   "metadata": {},
   "outputs": [
    {
     "data": {
      "text/plain": [
       "Text(0.5, 0, 'The Number of Iterations * 2000')"
      ]
     },
     "execution_count": 16,
     "metadata": {},
     "output_type": "execute_result"
    },
    {
     "data": {
      "image/png": "[encoded data removed]",
      "text/plain": [
       "<Figure size 1080x360 with 1 Axes>"
      ]
     },
     "metadata": {
      "needs_background": "light"
     },
     "output_type": "display_data"
    }
   ],
   "source": [
    "import matplotlib.pyplot as plt\n",
    "plt.figure(figsize=(15,5))\n",
    "plt.plot(all_losses)\n",
    "plt.title('Loss Value')\n",
    "plt.xlabel('The Number of Iterations * 2000')"
   ]
  },
  {
   "cell_type": "code",
   "execution_count": 17,
   "metadata": {},
   "outputs": [],
   "source": [
    "max_length=20\n",
    "def sample(category,start='A'):\n",
    "    category_tensor=t.zeros(1,n_categories)\n",
    "    category_tensor[0][all_categories.index(category)]=1\n",
    "\n",
    "    input_tensor=t.zeros(1,n_letters)\n",
    "    input_tensor[0][all_letters.index(start)]=1\n",
    "\n",
    "    hidden=rnn.initHidden()\n",
    "\n",
    "    output_name=start\n",
    "\n",
    "    for i in range(max_length):\n",
    "        output,hidden=rnn(category_tensor,input_tensor,hidden)\n",
    "        topv,topi=output.topk(1)\n",
    "        topi=topi[0][0]\n",
    "        if topi==n_letters-1:#人为设定的终止符下标是55，即任一句子的所有字符下标均不得为55，当出现55时，即认为终止\n",
    "            break\n",
    "        else:\n",
    "            letter=all_letters[topi]\n",
    "            output_name += letter\n",
    "            \n",
    "            input_tensor=t.zeros(1,n_letters)\n",
    "            input_tensor[0][all_letters.index(letter)]=1\n",
    "    return output_name\n",
    "\n",
    "def samples(category,starts='ABC'):\n",
    "    for start in starts:\n",
    "        print(sample(category,start))\n",
    "    print('-'*50)"
   ]
  },
  {
   "cell_type": "code",
   "execution_count": 18,
   "metadata": {},
   "outputs": [
    {
     "data": {
      "text/plain": [
       "tensor([[ -2.4780,  -4.7992,  -7.8075,  -4.6790,  -4.8783,  -6.1882,  -5.3283,\n",
       "          -5.2953,  -3.6463,  -8.2471,  -8.4714,  -5.6993,  -5.7285,  -6.5187,\n",
       "          -4.5888,  -8.3063,  -7.3922,  -4.0244,  -3.8350,  -4.6790,  -4.6760,\n",
       "          -8.6161,  -8.6090,  -8.3829,  -5.8532,  -6.7052, -10.5898, -10.1838,\n",
       "         -10.8147, -10.3713, -11.2946,  -4.6790, -10.4940, -10.5818, -10.5774,\n",
       "         -11.2889,  -4.6790, -10.3720, -10.6482, -10.5024, -10.8687, -10.6871,\n",
       "          -4.6790, -10.8138, -10.9583, -10.8572, -10.7255, -10.9266,  -4.6790,\n",
       "         -10.9480, -10.6604, -11.1286, -10.6472, -10.5558, -10.8077,  -0.3113]],\n",
       "       grad_fn=<LogSoftmaxBackward0>)"
      ]
     },
     "execution_count": 18,
     "metadata": {},
     "output_type": "execute_result"
    }
   ],
   "source": [
    "output"
   ]
  },
  {
   "cell_type": "code",
   "execution_count": 19,
   "metadata": {},
   "outputs": [
    {
     "name": "stdout",
     "output_type": "stream",
     "text": [
      "Wartan\n",
      "Garinov\n",
      "Zarinov\n",
      "--------------------------------------------------\n",
      "Wanter\n",
      "Gorten\n",
      "Zonger\n",
      "--------------------------------------------------\n",
      "Wai\n",
      "Gan\n",
      "Zhag\n",
      "--------------------------------------------------\n"
     ]
    }
   ],
   "source": [
    "samples('Russian','WGZ')\n",
    "samples('English','WGZ')\n",
    "samples('Chinese','WGZ')"
   ]
  }
 ],
 "metadata": {
  "interpreter": {
   "hash": "da5d3c13d5aa829161cf843792884de182f91ab2e540693bb706e0e23cabc9e9"
  },
  "kernelspec": {
   "display_name": "Python 3.8.10 64-bit ('py38': conda)",
   "language": "python",
   "name": "python3"
  },
  "language_info": {
   "codemirror_mode": {
    "name": "ipython",
    "version": 3
   },
   "file_extension": ".py",
   "mimetype": "text/x-python",
   "name": "python",
   "nbconvert_exporter": "python",
   "pygments_lexer": "ipython3",
   "version": "3.8.9"
  },
  "orig_nbformat": 4
 },
 "nbformat": 4,
 "nbformat_minor": 2
}
