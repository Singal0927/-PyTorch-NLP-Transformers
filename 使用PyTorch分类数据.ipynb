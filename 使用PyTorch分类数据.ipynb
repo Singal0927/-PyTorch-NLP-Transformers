{
 "cells": [
  {
   "cell_type": "markdown",
   "metadata": {},
   "source": [
    "## 1、加载并标准数据"
   ]
  },
  {
   "cell_type": "code",
   "execution_count": 2,
   "metadata": {},
   "outputs": [],
   "source": [
    "import torch\n",
    "import torchvision\n",
    "import torchvision.transforms as transforms"
   ]
  },
  {
   "cell_type": "code",
   "execution_count": 3,
   "metadata": {},
   "outputs": [
    {
     "name": "stdout",
     "output_type": "stream",
     "text": [
      "Files already downloaded and verified\n",
      "Files already downloaded and verified\n"
     ]
    }
   ],
   "source": [
    "transform=transforms.Compose([transforms.ToTensor(),transforms.Normalize((0.5,0.5,0.5),(0.5,0.5,0.5))])\n",
    "batch_size=64\n",
    "trainset=torchvision.datasets.CIFAR10(\n",
    "    root='data',\n",
    "    train=True,\n",
    "    download=True,\n",
    "    transform=transform\n",
    ")\n",
    "trainloader=torch.utils.data.DataLoader(trainset,batch_size=batch_size,shuffle=True,num_workers=2)\n",
    "\n",
    "testset=torchvision.datasets.CIFAR10(\n",
    "    root='data',\n",
    "    train=True,\n",
    "    download=True,\n",
    "    transform=transform\n",
    ")\n",
    "testloader=torch.utils.data.DataLoader(trainset,batch_size=batch_size,shuffle=False,num_workers=2)\n",
    "\n",
    "classes = ('plane', 'car', 'bird', 'cat','deer', 'dog', 'frog', 'horse', 'ship', 'truck')"
   ]
  },
  {
   "cell_type": "code",
   "execution_count": 4,
   "metadata": {},
   "outputs": [],
   "source": [
    "xtrain,ytrain=next(iter(trainloader))\n",
    "xtest,ytest=next(iter(testloader))"
   ]
  },
  {
   "cell_type": "code",
   "execution_count": 5,
   "metadata": {},
   "outputs": [
    {
     "data": {
      "text/plain": [
       "(torch.Size([64, 3, 32, 32]), torch.Size([64]))"
      ]
     },
     "execution_count": 5,
     "metadata": {},
     "output_type": "execute_result"
    }
   ],
   "source": [
    "xtrain.size(),ytrain.size()"
   ]
  },
  {
   "cell_type": "markdown",
   "metadata": {},
   "source": [
    "## 2、构建卷积神经网络"
   ]
  },
  {
   "cell_type": "code",
   "execution_count": 6,
   "metadata": {},
   "outputs": [],
   "source": [
    "import torch.nn as nn\n",
    "import torch.nn.functional as F\n",
    "\n",
    "class Net(nn.Module):\n",
    "    def __init__(self):\n",
    "        super(Net,self).__init__()\n",
    "        self.conv1=nn.Conv2d(3,6,5)\n",
    "        self.pool=nn.MaxPool2d(2,2)\n",
    "        self.conv2=nn.Conv2d(6,16,5)\n",
    "        self.fc1=nn.Linear(16*5*5,120)\n",
    "        self.fc2=nn.Linear(120,84)\n",
    "        self.fc3=nn.Linear(84,10)\n",
    "\n",
    "    def forward(self,x):\n",
    "        x=self.pool(F.relu(self.conv1(x)))\n",
    "        x=self.pool(F.relu(self.conv2(x)))\n",
    "        x=torch.flatten(x,1)\n",
    "        x=F.relu(self.fc1(x))\n",
    "        x=F.relu(self.fc2(x))\n",
    "        x=self.fc3(x)\n",
    "        return x"
   ]
  },
  {
   "cell_type": "code",
   "execution_count": 7,
   "metadata": {},
   "outputs": [
    {
     "data": {
      "text/plain": [
       "Net(\n",
       "  (conv1): Conv2d(3, 6, kernel_size=(5, 5), stride=(1, 1))\n",
       "  (pool): MaxPool2d(kernel_size=2, stride=2, padding=0, dilation=1, ceil_mode=False)\n",
       "  (conv2): Conv2d(6, 16, kernel_size=(5, 5), stride=(1, 1))\n",
       "  (fc1): Linear(in_features=400, out_features=120, bias=True)\n",
       "  (fc2): Linear(in_features=120, out_features=84, bias=True)\n",
       "  (fc3): Linear(in_features=84, out_features=10, bias=True)\n",
       ")"
      ]
     },
     "execution_count": 7,
     "metadata": {},
     "output_type": "execute_result"
    }
   ],
   "source": [
    "model=Net()\n",
    "model"
   ]
  },
  {
   "cell_type": "markdown",
   "metadata": {},
   "source": [
    "## 三、训练并测试神经网络"
   ]
  },
  {
   "cell_type": "code",
   "execution_count": 13,
   "metadata": {},
   "outputs": [],
   "source": [
    "def train_loop(dataloader,model,optimizer,loss_fn):\n",
    "    size=len(dataloader.dataset)\n",
    "    for batch,(x,y) in enumerate(trainloader):\n",
    "        optimizer.zero_grad()\n",
    "\n",
    "        #forward\n",
    "        prob=model(x)\n",
    "        loss=loss_fn(prob,y)\n",
    "\n",
    "        #backward\n",
    "        loss.backward()\n",
    "        \n",
    "        #optimizer\n",
    "        optimizer.step()\n",
    "\n",
    "        #输出结果\n",
    "        if batch%100 == 0:\n",
    "            loss_value=loss.item()\n",
    "            current=batch*len(y)\n",
    "            print(f'Loss:{loss_value:.5f}  [{current:5d}/{size}]')\n",
    "\n",
    "def test_loop(dataloader,model,optimizer,loss_fn):\n",
    "    loss,correct=0,0\n",
    "    batches=len(dataloader)\n",
    "    size=len(dataloader.dataset)\n",
    "    with torch.no_grad():\n",
    "        for x,y in dataloader:\n",
    "            prob=model(x)#64*10\n",
    "            loss+=loss_fn(prob,y)\n",
    "\n",
    "            _,pred=torch.max(prob,1)\n",
    "            correct+=(pred==y).sum().item()\n",
    "            \n",
    "        error=loss/batches\n",
    "        accuracy=correct/size\n",
    "    print(f'测试集预测准确率为{accuracy:.3f},误差为{error:.3f}')\n"
   ]
  },
  {
   "cell_type": "code",
   "execution_count": 14,
   "metadata": {},
   "outputs": [
    {
     "name": "stdout",
     "output_type": "stream",
     "text": [
      "第1次迭代\n",
      "---------\n",
      "Loss:2.23625  [    0/50000]\n",
      "Loss:2.25394  [ 6400/50000]\n",
      "Loss:2.13815  [12800/50000]\n",
      "Loss:2.02798  [19200/50000]\n",
      "Loss:1.97634  [25600/50000]\n",
      "Loss:1.92401  [32000/50000]\n",
      "Loss:1.91915  [38400/50000]\n",
      "Loss:1.96762  [44800/50000]\n",
      "测试集预测准确率为0.307,误差为1.924\n",
      "第2次迭代\n",
      "---------\n",
      "Loss:1.91362  [    0/50000]\n",
      "Loss:1.85109  [ 6400/50000]\n",
      "Loss:1.83916  [12800/50000]\n",
      "Loss:1.95227  [19200/50000]\n",
      "Loss:1.65078  [25600/50000]\n",
      "Loss:2.05327  [32000/50000]\n",
      "Loss:1.86030  [38400/50000]\n",
      "Loss:1.61505  [44800/50000]\n",
      "测试集预测准确率为0.364,误差为1.753\n",
      "第3次迭代\n",
      "---------\n",
      "Loss:1.79240  [    0/50000]\n",
      "Loss:1.57863  [ 6400/50000]\n",
      "Loss:1.90574  [12800/50000]\n",
      "Loss:1.66272  [19200/50000]\n",
      "Loss:1.65947  [25600/50000]\n",
      "Loss:1.56988  [32000/50000]\n",
      "Loss:1.58912  [38400/50000]\n",
      "Loss:1.68179  [44800/50000]\n",
      "测试集预测准确率为0.423,误差为1.577\n",
      "第4次迭代\n",
      "---------\n",
      "Loss:1.43490  [    0/50000]\n",
      "Loss:1.49637  [ 6400/50000]\n",
      "Loss:1.58993  [12800/50000]\n",
      "Loss:1.41838  [19200/50000]\n",
      "Loss:1.54780  [25600/50000]\n",
      "Loss:1.62645  [32000/50000]\n",
      "Loss:1.67458  [38400/50000]\n",
      "Loss:1.67048  [44800/50000]\n",
      "测试集预测准确率为0.454,误差为1.503\n",
      "第5次迭代\n",
      "---------\n",
      "Loss:1.35516  [    0/50000]\n",
      "Loss:1.48020  [ 6400/50000]\n",
      "Loss:1.60917  [12800/50000]\n",
      "Loss:1.54926  [19200/50000]\n",
      "Loss:1.72908  [25600/50000]\n",
      "Loss:1.26795  [32000/50000]\n",
      "Loss:1.45112  [38400/50000]\n",
      "Loss:1.34178  [44800/50000]\n",
      "测试集预测准确率为0.485,误差为1.438\n"
     ]
    }
   ],
   "source": [
    "lr=1e-3\n",
    "optimizer=torch.optim.SGD(model.parameters(),lr=lr,momentum=0.9)\n",
    "loss_fn=nn.CrossEntropyLoss()\n",
    "\n",
    "for i in range(1,6):\n",
    "    print(f'第{i}次迭代\\n---------')\n",
    "    train_loop(trainloader,model,optimizer,loss_fn)\n",
    "    test_loop(testloader,model,optimizer,loss_fn)"
   ]
  }
 ],
 "metadata": {
  "interpreter": {
   "hash": "da5d3c13d5aa829161cf843792884de182f91ab2e540693bb706e0e23cabc9e9"
  },
  "kernelspec": {
   "display_name": "Python 3.8.10 64-bit ('py38': conda)",
   "language": "python",
   "name": "python3"
  },
  "language_info": {
   "codemirror_mode": {
    "name": "ipython",
    "version": 3
   },
   "file_extension": ".py",
   "mimetype": "text/x-python",
   "name": "python",
   "nbconvert_exporter": "python",
   "pygments_lexer": "ipython3",
   "version": "3.8.10"
  },
  "orig_nbformat": 4
 },
 "nbformat": 4,
 "nbformat_minor": 2
}
